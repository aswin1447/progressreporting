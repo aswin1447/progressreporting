{
 "cells": [
  {
   "cell_type": "markdown",
   "id": "eb25332d",
   "metadata": {},
   "source": [
    "# Before you start\n",
    "\n",
    "To run this notebook you first have to:\n",
    "1. Install the `progressreporting` package following the instructions [here](https://github.com/SengerM/progressreporting).\n",
    "2. [Create a Telegram bot](https://core.telegram.org/bots#3-how-do-i-create-a-bot) and have in hand its token and also the ID of the chat to which you want to send the messages (basic tutorial [here](https://github.com/SengerM/progressreporting#creating-a-bot), otherwise just google it)."
   ]
  },
  {
   "cell_type": "markdown",
   "id": "eef4b1d4",
   "metadata": {},
   "source": [
    "# Normal execution with no errors\n",
    "\n",
    "Import everything:"
   ]
  },
  {
   "cell_type": "code",
   "execution_count": null,
   "id": "2b7b0753",
   "metadata": {},
   "outputs": [],
   "source": [
    "from progressreporting.TelegramProgressReporter import TelegramProgressReporter\n",
    "from data_processing_bureaucrat.Bureaucrat import TelegramReportingInformation # Here I store the token of the bot, NEVER make it public!\n",
    "import time\n",
    "\n",
    "MAX_K = 999\n",
    "SLEEP_PER_LOOP = 3e-2 # Seconds.\n",
    "REPORTING_TIME = 5 # Seconds."
   ]
  },
  {
   "cell_type": "markdown",
   "id": "be7cec99",
   "metadata": {},
   "source": [
    "You will not need the `TelegramReportingInformation`, this is just a private repo I have to store both the token and the chat ID of my bot. **Never make the token public to the world!** If you make it public, it will not be long until the world stoles your bot (already happened to me)."
   ]
  },
  {
   "cell_type": "code",
   "execution_count": null,
   "id": "c341088c",
   "metadata": {},
   "outputs": [],
   "source": [
    "with TelegramProgressReporter(\n",
    "    total = MAX_K, # Tell me how long is the loop.\n",
    "    telegram_token = TelegramReportingInformation().token, # Never make public the token!\n",
    "    telegram_chat_id = TelegramReportingInformation().chat_id, # Tell me to which chat send the messages.\n",
    "    miminum_update_time_seconds = REPORTING_TIME, # Default is 60 seconds to not affect performance.\n",
    "    loop_name = 'PyHEP 2021 - Loop without errors', # This is optional.\n",
    ") as reporter:\n",
    "    for k in range(MAX_K):\n",
    "        # Do some stuff...\n",
    "        time.sleep(SLEEP_PER_LOOP)\n",
    "        reporter.update(1) # 1 means 1/MAX_K completed. After REPORTING_TIME it will send a message."
   ]
  },
  {
   "cell_type": "markdown",
   "id": "55b277b6",
   "metadata": {},
   "source": [
    "# An error during the loop\n",
    "\n",
    "If something happens, you will be notified:"
   ]
  },
  {
   "cell_type": "code",
   "execution_count": null,
   "id": "9d993032",
   "metadata": {},
   "outputs": [],
   "source": [
    "with TelegramProgressReporter(total = MAX_K, telegram_token = TelegramReportingInformation().token, telegram_chat_id = TelegramReportingInformation().chat_id, miminum_update_time_seconds = REPORTING_TIME, \n",
    "    loop_name = 'PyHEP 2021 - Loop with an error',\n",
    ") as reporter:\n",
    "    for k in range(MAX_K):\n",
    "        # Do some stuff...\n",
    "        time.sleep(SLEEP_PER_LOOP)\n",
    "        if k > 333:\n",
    "            raise RuntimeError('Unexpected things can happen!')\n",
    "        reporter.update(1)"
   ]
  },
  {
   "cell_type": "markdown",
   "id": "8f9ebbfb",
   "metadata": {},
   "source": [
    "# Multiple reporters at the same time\n",
    "\n",
    "You can use the same bot and chat to report from many loops at the same time. The loops can be happening in the same computer, or in diferent computers (e.g. one at the lab and another at you office).\n",
    "\n",
    "To ilustrate I will run 3 dummy loops using the `multiprocessing` package."
   ]
  },
  {
   "cell_type": "code",
   "execution_count": null,
   "id": "c5dbbdea",
   "metadata": {},
   "outputs": [],
   "source": [
    "from multiprocessing import Pool"
   ]
  },
  {
   "cell_type": "code",
   "execution_count": null,
   "id": "5c7f2532",
   "metadata": {},
   "outputs": [],
   "source": [
    "def function_with_reporting_loop(loop_number: int):\n",
    "    # This function is defined just to be able to \n",
    "    # run many loops at the same time using the \n",
    "    # multiprocessing package.\n",
    "    time.sleep(loop_number) # Wait some time to avoid all the loops to start at the same time.\n",
    "    with TelegramProgressReporter(total = MAX_K, telegram_token = TelegramReportingInformation().token, telegram_chat_id = TelegramReportingInformation().chat_id, miminum_update_time_seconds = REPORTING_TIME, \n",
    "        loop_name = f'Loop number {loop_number}',\n",
    "    ) as reporter:\n",
    "        for k in range(MAX_K):\n",
    "            # Do some stuff...\n",
    "            time.sleep(SLEEP_PER_LOOP)\n",
    "            reporter.update(1)"
   ]
  },
  {
   "cell_type": "markdown",
   "id": "6955d1e7",
   "metadata": {},
   "source": [
    "The function `function_with_reporting_loop` is just needed for the `multiprocessing` package. Usually each instance of `TelegramProgressReporter` is runing in different scripts/different computers.\n",
    "\n",
    "Now we just run 3 instances simultaneously:"
   ]
  },
  {
   "cell_type": "code",
   "execution_count": null,
   "id": "c7e09d1d",
   "metadata": {},
   "outputs": [],
   "source": [
    "with Pool(3) as p:\n",
    "    p.map(function_with_reporting_loop, [1, 2, 3])"
   ]
  }
 ],
 "metadata": {
  "kernelspec": {
   "display_name": "Python 3 (ipykernel)",
   "language": "python",
   "name": "python3"
  },
  "language_info": {
   "codemirror_mode": {
    "name": "ipython",
    "version": 3
   },
   "file_extension": ".py",
   "mimetype": "text/x-python",
   "name": "python",
   "nbconvert_exporter": "python",
   "pygments_lexer": "ipython3",
   "version": "3.8.5"
  }
 },
 "nbformat": 4,
 "nbformat_minor": 5
}
