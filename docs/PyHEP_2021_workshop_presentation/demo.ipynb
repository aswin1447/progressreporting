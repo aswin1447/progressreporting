{
 "cells": [
  {
   "cell_type": "code",
   "execution_count": null,
   "id": "2b7b0753",
   "metadata": {},
   "outputs": [],
   "source": [
    "from progressreporting.TelegramProgressReporter import TelegramProgressReporter\n",
    "from data_processing_bureaucrat.Bureaucrat import TelegramReportingInformation # Here I store the token of the bot, NEVER make it public!\n",
    "import time\n",
    "\n",
    "MAX_K = 99999\n",
    "SLEEP_PER_LOOP = 7e-4 # Seconds.\n",
    "REPORTING_TIME = 5 # Seconds."
   ]
  },
  {
   "cell_type": "markdown",
   "id": "eef4b1d4",
   "metadata": {},
   "source": [
    "# Normal execution with no errors\n",
    "\n",
    "Let's see how it works when there are no errors."
   ]
  },
  {
   "cell_type": "code",
   "execution_count": null,
   "id": "c341088c",
   "metadata": {},
   "outputs": [],
   "source": [
    "with TelegramProgressReporter(\n",
    "    total = MAX_K, # Tell me how long is the loop.\n",
    "    telegram_token = TelegramReportingInformation().token, # Never make public the token!\n",
    "    telegram_chat_id = TelegramReportingInformation().chat_id, # Tell me to which chat send the messages.\n",
    "    miminum_update_time_seconds = REPORTING_TIME, # Default is 60 seconds to not affect performance.\n",
    "    loop_name = 'PyHEP 2021 - Loop without errors', # This is optional.\n",
    ") as reporter:\n",
    "    for k in range(MAX_K):\n",
    "        # Do some stuff...\n",
    "        time.sleep(SLEEP_PER_LOOP)\n",
    "        reporter.update(1) # 1 means 1/MAX_K completed."
   ]
  },
  {
   "cell_type": "markdown",
   "id": "55b277b6",
   "metadata": {},
   "source": [
    "# An error during the loop\n",
    "\n",
    "If something happens, you will be notified:"
   ]
  },
  {
   "cell_type": "code",
   "execution_count": null,
   "id": "9d993032",
   "metadata": {},
   "outputs": [],
   "source": [
    "with TelegramProgressReporter(total = MAX_K, telegram_token = TelegramReportingInformation().token, telegram_chat_id = TelegramReportingInformation().chat_id, miminum_update_time_seconds = REPORTING_TIME, \n",
    "    loop_name = 'PyHEP 2021 - Loop with an error',\n",
    ") as reporter:\n",
    "    for k in range(MAX_K):\n",
    "        # Do some stuff...\n",
    "        time.sleep(SLEEP_PER_LOOP)\n",
    "        if k > 22222:\n",
    "            raise RuntimeError('Unexpected things can happen!')\n",
    "        reporter.update(1) # 1 means 1/MAX_K completed."
   ]
  },
  {
   "cell_type": "markdown",
   "id": "8f9ebbfb",
   "metadata": {},
   "source": [
    "# Multiple reporters at the same time\n",
    "\n",
    "You can use the same bot and chat to report from many loops at the same time. The loops can be happening in the same computer, or in diferent computers (e.g. one at the lab and another at you office).\n",
    "\n",
    "To ilustrate I will run 3 dummy loops using the `multiprocessing` package."
   ]
  },
  {
   "cell_type": "code",
   "execution_count": null,
   "id": "c5dbbdea",
   "metadata": {},
   "outputs": [],
   "source": [
    "from multiprocessing import Pool"
   ]
  },
  {
   "cell_type": "code",
   "execution_count": null,
   "id": "5c7f2532",
   "metadata": {},
   "outputs": [],
   "source": [
    "def function_with_reporting_loop(loop_number: int):\n",
    "    # This function is defined just to be able to \n",
    "    # run many loops at the same time using the \n",
    "    # multiprocessing package.\n",
    "    time.sleep(loop_number) # Wait some time to avoid all the loops to start at the same time.\n",
    "    with TelegramProgressReporter(total = MAX_K, telegram_token = TelegramReportingInformation().token, telegram_chat_id = TelegramReportingInformation().chat_id, miminum_update_time_seconds = REPORTING_TIME, \n",
    "        loop_name = f'Loop number {loop_number}',\n",
    "    ) as reporter:\n",
    "        for k in range(MAX_K):\n",
    "            # Do some stuff...\n",
    "            time.sleep(SLEEP_PER_LOOP)\n",
    "            reporter.update(1) # 1 means 1/MAX_K completed."
   ]
  },
  {
   "cell_type": "code",
   "execution_count": null,
   "id": "c7e09d1d",
   "metadata": {},
   "outputs": [],
   "source": [
    "with Pool(5) as p:\n",
    "    p.map(function_with_reporting_loop, [1, 2, 3])"
   ]
  }
 ],
 "metadata": {
  "kernelspec": {
   "display_name": "Python 3 (ipykernel)",
   "language": "python",
   "name": "python3"
  },
  "language_info": {
   "codemirror_mode": {
    "name": "ipython",
    "version": 3
   },
   "file_extension": ".py",
   "mimetype": "text/x-python",
   "name": "python",
   "nbconvert_exporter": "python",
   "pygments_lexer": "ipython3",
   "version": "3.8.5"
  }
 },
 "nbformat": 4,
 "nbformat_minor": 5
}
